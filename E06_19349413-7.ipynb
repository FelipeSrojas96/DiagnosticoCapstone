{
  "nbformat": 4,
  "nbformat_minor": 0,
  "metadata": {
    "colab": {
      "name": "E06_Tu_RUT.ipynb",
      "provenance": [],
      "collapsed_sections": [],
      "toc_visible": true,
      "include_colab_link": true
    },
    "kernelspec": {
      "name": "python3",
      "display_name": "Python 3"
    },
    "language_info": {
      "name": "python"
    }
  },
  "cells": [
    {
      "cell_type": "markdown",
      "metadata": {
        "id": "view-in-github",
        "colab_type": "text"
      },
      "source": [
        "<a href=\"https://colab.research.google.com/github/FelipeSrojas96/DiagnosticoCapstone/blob/main/E06_19349413-7.ipynb\" target=\"_parent\"><img src=\"https://colab.research.google.com/assets/colab-badge.svg\" alt=\"Open In Colab\"/></a>"
      ]
    },
    {
      "cell_type": "markdown",
      "metadata": {
        "id": "ldHBGHWGon-Y"
      },
      "source": [
        "# Reconocimiento de Patrones\n",
        "[Curso de Reconocimiento de Patrones](https://https://domingomery.ing.puc.cl/teaching/patrones/)\n",
        "\n",
        "Departamento de Ciencia de la Computación\n",
        "\n",
        "Universidad Catolica de Chile\n",
        "\n",
        "(c) Domingo Mery, http://domingomery.ing.uc.cl\n",
        "\n"
      ]
    },
    {
      "cell_type": "markdown",
      "metadata": {
        "id": "XASTjivuu7cO"
      },
      "source": [
        "# Ejercicio 06: Selección de Características para la Detección de espinas de salmón\n",
        "\n",
        "En este ejercicio se realizará la clasificación entre dos clases de \"parches\" de radiogarfías de filetes de salmón de 100x100 pixeles (en escala de grises):\n",
        "\n",
        "* Clase 0: Espinas (contiene parches de filetes de salmón con espinas). [Ver imágenes](https://www.dropbox.com/s/8bbb7yzyrjkl0qs/fishbones_0.png?dl=00)\n",
        "\n",
        "* Clase 1: No-Espinas (contiene parches de filetes de salmón sin espinas) [Ver imágenes](https://www.dropbox.com/s/tdgp3shvk47213c/fishbones_1.png?dl=0)\n",
        "\n",
        "La base de datos contiene 680 imágenes de 100x100 pixeles (340 imágenes por clase).\n",
        "\n",
        "**ADVERTENCIA:** Este ejercicio tiene fines pedagógicos sólamente, con la idea de que la solución a este problema pueda ejecutarse en un par de minutos. Un buen detector de espinas sigue esta idea pero con miles de radiografías por clase.\n",
        "\n",
        "\n"
      ]
    },
    {
      "cell_type": "markdown",
      "metadata": {
        "id": "R5C53BYjpNl7"
      },
      "source": [
        "# Setup inicial\n",
        "\n",
        "Liberías necesarias para que funcione el algoritmo."
      ]
    },
    {
      "cell_type": "markdown",
      "metadata": {
        "id": "x-r9zRXMdBOM"
      },
      "source": [
        "## Instalación de PyBalu\n",
        "\n",
        "[PyBalu](https://github.com/mbucchi/pybalu) es una librería creada para extraer características. "
      ]
    },
    {
      "cell_type": "code",
      "metadata": {
        "id": "XX-Xb2Igk2jQ",
        "outputId": "defe3d2e-c988-4288-d12f-d976646e3f0e",
        "colab": {
          "base_uri": "https://localhost:8080/",
          "height": 1000
        }
      },
      "source": [
        "#\n",
        "# EJECUTAR ESTA CELDA SIN MODIFICARLA\n",
        "#\n",
        "\n",
        "from IPython.display import clear_output\n",
        "!pip install scipy==1.2\n",
        "!pip3 install pybalu==0.2.5\n",
        "!pip install passlib\n",
        "clear_output()\n",
        "print('Librerías instaladas.')"
      ],
      "execution_count": 6,
      "outputs": [
        {
          "output_type": "stream",
          "name": "stdout",
          "text": [
            "Librerías instaladas.\n"
          ]
        }
      ]
    },
    {
      "cell_type": "markdown",
      "metadata": {
        "id": "X9daVUmmTSBW"
      },
      "source": [
        "## Setup de librerías"
      ]
    },
    {
      "cell_type": "code",
      "metadata": {
        "id": "xUXeMCxoTRH8",
        "outputId": "7a201918-72b2-4c05-c5c0-6c83c6b3da39",
        "colab": {
          "base_uri": "https://localhost:8080/"
        }
      },
      "source": [
        "#\n",
        "# EJECUTAR ESTA CELDA SIN MODIFICARLA\n",
        "#\n",
        "import numpy as np\n",
        "import matplotlib.pyplot as plt\n",
        "import os.path\n",
        "from   sklearn.metrics import confusion_matrix, accuracy_score\n",
        "from   sklearn.neighbors import KNeighborsClassifier\n",
        "from   tqdm.auto import tqdm\n",
        "from   pybalu.feature_extraction import lbp_features\n",
        "from   pybalu.feature_transformation import normalize\n",
        "from   pybalu.feature_analysis import jfisher\n",
        "clear_output()\n",
        "print('Librerías cargadas.')\n",
        "\n"
      ],
      "execution_count": 7,
      "outputs": [
        {
          "output_type": "stream",
          "name": "stdout",
          "text": [
            "Librerías cargadas.\n"
          ]
        }
      ]
    },
    {
      "cell_type": "markdown",
      "metadata": {
        "id": "dYCCyCrTYVYQ"
      },
      "source": [
        "## Funciones necesarias"
      ]
    },
    {
      "cell_type": "code",
      "metadata": {
        "id": "V7PwerxH4rxx"
      },
      "source": [
        "#\n",
        "# EJECUTAR ESTA CELDA SIN MODIFICARLA\n",
        "#\n",
        "\n",
        "def num2fixstr(x,d):\n",
        "  # example num2fixstr(2,5) returns '00002'\n",
        "  # example num2fixstr(19,3) returns '019'\n",
        "  st = '%0*d' % (d,x)\n",
        "  return st\n",
        "\n",
        "def ImageLoad(prefix,num_char,num_img,echo='off'):\n",
        "  st   = prefix + num2fixstr(num_char,2) + '_' + num2fixstr(num_img,4) + '.png'\n",
        "  if echo == 'on':\n",
        "    print('loading image '+st+'...')\n",
        "  img    = 255*plt.imread(st)\n",
        "  return img\n",
        "\n",
        "# Separación entre training y testing\n",
        "def SplitTrainTest(X,y,n):\n",
        "\n",
        "  K      = np.max(y)+1              # número de clases\n",
        "  N      = np.int(X.shape[0]/K)     # numeros de muestras por clase\n",
        "  Ntrain = n*K                      # número de muestras para el training\n",
        "  Ntest  = K*N-Ntrain               # número de muestras para el testing\n",
        "  M      = X.shape[1]               # número de características por muestra\n",
        "  Xtrain = np.zeros((Ntrain,M))     # subset de training\n",
        "  ytrain = np.zeros((Ntrain),'int') # ground truth del training         \n",
        "  Xtest  = np.zeros((Ntest,M))      # subset de testing\n",
        "  ytest  = np.zeros((Ntest),'int')  # ground truth del testing  \n",
        "\n",
        "  # contadores\n",
        "  itrain = 0\n",
        "  itest  = 0\n",
        "  t      = 0\n",
        "\n",
        "  for j in range(K):     # para cada clase\n",
        "    for i in range(N):   # para cada imagen de la clase\n",
        "      if i<n: # training\n",
        "        Xtrain[itrain,:] = X[t,:]\n",
        "        ytrain[itrain] = y[t]\n",
        "        itrain = itrain+1\n",
        "      else:  # testing\n",
        "        Xtest[itest,:] = X[t,:]\n",
        "        ytest[itest] = y[t]\n",
        "        itest = itest+1\n",
        "      t = t+1\n",
        "  \n",
        "  return Xtrain,ytrain,Xtest,ytest\n",
        "\n",
        "# Clasificación usando KNN con 25 vecinos\n",
        "def ClassifierKNN(Xtrain,ytrain,Xtest,ytest,echo ='on'):\n",
        "  knn = KNeighborsClassifier(n_neighbors=25)\n",
        "  knn.fit(Xtrain, ytrain)\n",
        "  ypred        = knn.predict(Xtest)\n",
        "  acc          = accuracy_score(ytest,ypred)\n",
        "  C = confusion_matrix(ytest,ypred)\n",
        "  if echo == 'on':\n",
        "    print('Entrenando con '+str(Xtrain.shape[0])+' muestras y probando con '+str(Xtest.shape[0])+' muestras')\n",
        "    print('Los datos tienen '+str(Xtrain.shape[1])+' features')\n",
        "    print('Testing Accuracy = '+str(acc*100)+'%')\n",
        "    print('Matriz de Confusión:')\n",
        "    print(C)\n",
        "  return acc,C"
      ],
      "execution_count": 8,
      "outputs": []
    },
    {
      "cell_type": "markdown",
      "source": [
        "## ADVERTENCIA\n",
        "\n",
        "<font color='red'> PARA LA EJECUCIÓN DE ESTA TAREA NO DEBE USAR OTRAS LIBRERÍAS \n",
        "\n",
        "(sólo está permitido usar las librerías definidas en las celdas anteriores)"
      ],
      "metadata": {
        "id": "_OkYYztagGZb"
      }
    },
    {
      "cell_type": "markdown",
      "metadata": {
        "id": "sOcwbiQYYPag"
      },
      "source": [
        "# PREGUNTA 1: Carga de base de datos\n",
        "\n",
        "(1 punto)\n",
        "\n",
        "La base de datos consiste en 2 clases con 340 imágenes por clase. Se almacenan en la carpeta `fishbones` con el formato `fish_xx_nnnn.png`, donde `xx` es el ID de la clase (00 para espinas, 02 para no-espinas) y `nnnn` es el número de la foto de la clase (0001, 0002, ... 0340). Las radiografías son de 100x100 pixeles en escala de grises.\n",
        "\n",
        "\n",
        "En esta celda debes cargar la base de datos a este ambiente de trabajo, descargando el archivo fishbones.zip que se encuentra en este link: `https://www.dropbox.com/s/7d9y6kllguegk77/fishbones.zip`. Una vez descargado el archivo zip, debes descomprimirlo.\n",
        "\n",
        "AYUDA: usar comando `!wget <url archivo zip>` para descargar el archivo, y el comando `!unzip <archivo zip>` para descomprimirlo.\n",
        "\n"
      ]
    },
    {
      "cell_type": "code",
      "metadata": {
        "id": "BMYOlpLpzHQJ",
        "outputId": "f91ef62b-5407-466b-e651-cce25342a4e3",
        "colab": {
          "base_uri": "https://localhost:8080/"
        }
      },
      "source": [
        "# Carga de base de datos\n",
        "\n",
        "# COMPLETAR AQUI DOS LINEAS DE CODIGO\n",
        "# Linea 1: comando para bajar archivo zip desde dropbox\n",
        "# Linea 2: comando para descomprimir el archivo zip bajado en la linea 1\n",
        "# Al final de la ejecucion debe haberse creado la carpeta fishbones con 680 imágenes\n",
        "\n",
        "!wget https://www.dropbox.com/s/7d9y6kllguegk77/fishbones.zip # <- COMPLETAR AQUI LINEA 1\n",
        "!unzip -qq fishbones.zip # <- COMPLETAR AQUI LINEA 2\n"
      ],
      "execution_count": 9,
      "outputs": [
        {
          "output_type": "stream",
          "name": "stdout",
          "text": [
            "--2022-04-20 22:10:56--  https://www.dropbox.com/s/7d9y6kllguegk77/fishbones.zip\n",
            "Resolving www.dropbox.com (www.dropbox.com)... 162.125.3.18, 2620:100:601b:18::a27d:812\n",
            "Connecting to www.dropbox.com (www.dropbox.com)|162.125.3.18|:443... connected.\n",
            "HTTP request sent, awaiting response... 301 Moved Permanently\n",
            "Location: /s/raw/7d9y6kllguegk77/fishbones.zip [following]\n",
            "--2022-04-20 22:10:56--  https://www.dropbox.com/s/raw/7d9y6kllguegk77/fishbones.zip\n",
            "Reusing existing connection to www.dropbox.com:443.\n",
            "HTTP request sent, awaiting response... 302 Found\n",
            "Location: https://uc05639801514a137ef0450b31e2.dl.dropboxusercontent.com/cd/0/inline/Bjx3oSxY4iHLQwF9p0s-fJnZEHnfzUl9FnGUagNaamW2E8HpP5qshCBtDfRwacdF3JwCLB3fuEwxU5OQfHFqJq_7qc43Vrxxd_JwQNujOWNdiFZFfecN33i9BNylQ4XAd9SCCnulbSUTvBaNOfdt58OPvbaZZn2YeG8dApc4eK552Q/file# [following]\n",
            "--2022-04-20 22:10:56--  https://uc05639801514a137ef0450b31e2.dl.dropboxusercontent.com/cd/0/inline/Bjx3oSxY4iHLQwF9p0s-fJnZEHnfzUl9FnGUagNaamW2E8HpP5qshCBtDfRwacdF3JwCLB3fuEwxU5OQfHFqJq_7qc43Vrxxd_JwQNujOWNdiFZFfecN33i9BNylQ4XAd9SCCnulbSUTvBaNOfdt58OPvbaZZn2YeG8dApc4eK552Q/file\n",
            "Resolving uc05639801514a137ef0450b31e2.dl.dropboxusercontent.com (uc05639801514a137ef0450b31e2.dl.dropboxusercontent.com)... 162.125.3.15, 2620:100:6019:15::a27d:40f\n",
            "Connecting to uc05639801514a137ef0450b31e2.dl.dropboxusercontent.com (uc05639801514a137ef0450b31e2.dl.dropboxusercontent.com)|162.125.3.15|:443... connected.\n",
            "HTTP request sent, awaiting response... 302 Found\n",
            "Location: /cd/0/inline2/BjxDoOEGiYAKusRsTI_TekxZtKEEBuPHR_odlScaq2PRfFn50vfDOzVlrpkImWP6dOyK-6qOlSPq3i2Fsmpe6ToPbFPMH0lF9X7kcB9YalkoFP02RfM3mLo6qLGI1xh61-Pf-7wf4Xhc4s6iNHuCzFnFymEkOXjg7eS-NG2wqt5UlT6WIUp3jgirT62h0I5cHOlMWCanzYnRvyI2aisRGENx6obmKj8dTaEIzpnCa_-tpqr2YU0OtWIo5vh-nlcUzyDMbKVltEoiFaly03mrJ_eIQdjZrKC_aBfhyKUe6mqQ5L6oa3QaPWcFVXIh6eF37OA28OGzprHDoeizrD0IbWGC4TvRzxpFxWCYqbY1fN-DhdfNc7p2uZbvCVllqlMKNrHsnrg-42zgUJi-yqjWSKKtr_lEpZ3P2JRqgembe-yv6A/file [following]\n",
            "--2022-04-20 22:10:56--  https://uc05639801514a137ef0450b31e2.dl.dropboxusercontent.com/cd/0/inline2/BjxDoOEGiYAKusRsTI_TekxZtKEEBuPHR_odlScaq2PRfFn50vfDOzVlrpkImWP6dOyK-6qOlSPq3i2Fsmpe6ToPbFPMH0lF9X7kcB9YalkoFP02RfM3mLo6qLGI1xh61-Pf-7wf4Xhc4s6iNHuCzFnFymEkOXjg7eS-NG2wqt5UlT6WIUp3jgirT62h0I5cHOlMWCanzYnRvyI2aisRGENx6obmKj8dTaEIzpnCa_-tpqr2YU0OtWIo5vh-nlcUzyDMbKVltEoiFaly03mrJ_eIQdjZrKC_aBfhyKUe6mqQ5L6oa3QaPWcFVXIh6eF37OA28OGzprHDoeizrD0IbWGC4TvRzxpFxWCYqbY1fN-DhdfNc7p2uZbvCVllqlMKNrHsnrg-42zgUJi-yqjWSKKtr_lEpZ3P2JRqgembe-yv6A/file\n",
            "Reusing existing connection to uc05639801514a137ef0450b31e2.dl.dropboxusercontent.com:443.\n",
            "HTTP request sent, awaiting response... 200 OK\n",
            "Length: 3264547 (3.1M) [application/zip]\n",
            "Saving to: ‘fishbones.zip’\n",
            "\n",
            "fishbones.zip       100%[===================>]   3.11M  --.-KB/s    in 0.08s   \n",
            "\n",
            "2022-04-20 22:10:57 (41.3 MB/s) - ‘fishbones.zip’ saved [3264547/3264547]\n",
            "\n"
          ]
        }
      ]
    },
    {
      "cell_type": "markdown",
      "metadata": {
        "id": "yYHxPwnTYhXs"
      },
      "source": [
        "# PREGUNTA 2: Extracción de características\n",
        "\n",
        "(2 puntos)\n",
        "\n",
        "En esta pregunta se debe realizar la extracción de características de la imagen `img`. Las características a extraer son las basadas en LBP (invariantes a la rotación) y se extraen usando los siguientes comandos de la librería PyBalu:\n",
        "\n",
        "## Cómo extraer características LBP rotación-invairiante:\n",
        "\n",
        "Con el comando\n",
        "\n",
        "`f  = lbp_features(img, hdiv=a, vdiv=b, mapping='uniform')`\n",
        "\n",
        "se divide la imagen `img` en `a x b` particiones y en cada una de ellas se extrae el descriptor LBP (vector de 10 elementos). En este caso `f` es un vector de `10*a*b` elementos. En este ejercicio trabajaremos con `a = b = 1`, es decir sólo una partición por imagen.\n",
        "\n"
      ]
    },
    {
      "cell_type": "markdown",
      "source": [
        "<font color='orange'> IMPORTANTE: \n",
        "\n",
        "La salida de esta celda debe ser:\n",
        "\n",
        "* `Xlbp`: una matriz de 680 x 10 elementos. Las primeras 340 filas corresponden a los LBP de las imágenes de la clase 0, mientras que las siguientes 340 filas corresponden a los LBP de las imágenes de la clase 1.\n",
        "\n",
        "* `y`: vector con el Ground Truth de cada muestra. Este vector debe ser un array del tipo `int` con 680 elementos (340 ceros y 340 unos). \n",
        "\n",
        "<font color='red'> Para escribir este código reutilice los códigos vistos en clase\n"
      ],
      "metadata": {
        "id": "uFssO8MwqWP-"
      }
    },
    {
      "cell_type": "code",
      "metadata": {
        "id": "ASGRTqKTLYNa",
        "outputId": "d899ab9b-a294-4190-8592-9eda541fd639",
        "colab": {
          "base_uri": "https://localhost:8080/"
        }
      },
      "source": [
        "#\n",
        "# COMPLETAR CODIGO DE LA PREGUNTA 2 AQUI:\n",
        "#\n",
        "Xlbp = []\n",
        "\n",
        "for i in range(1,681):\n",
        "  if i>340:\n",
        "    clase = 1\n",
        "    i -= 340\n",
        "  else: \n",
        "    clase = 0\n",
        "  img = ImageLoad('fishbones/fish_',clase,i)\n",
        "  x_lbp = f = lbp_features(img, hdiv=1, vdiv=1, mapping='uniform')\n",
        "  Xlbp.append(x_lbp)\n",
        "\n",
        "y1 = np.zeros(340,dtype=int)\n",
        "y2 = np.ones(340,dtype = int)\n",
        "y = np.concatenate((y1,y2),axis = 0)\n",
        "\n",
        "Xlbp = np.array(Xlbp)\n",
        "\n",
        "print(Xlbp.shape)\n",
        "\n",
        "\n"
      ],
      "execution_count": 19,
      "outputs": [
        {
          "output_type": "stream",
          "name": "stdout",
          "text": [
            "(680, 10)\n"
          ]
        }
      ]
    },
    {
      "cell_type": "markdown",
      "metadata": {
        "id": "Xd5riXIEhUgS"
      },
      "source": [
        "# Pregunta 3: Clasificación con todas las características\n",
        "\n",
        "(1 punto)\n",
        "\n",
        "En todos los experimentos usaremos 280 muestras por clase para training y el resto (60) para testing.\n",
        "\n",
        "Como primer experimento clasificaremos usando todas las características extraídas, es decir con 10 características. Para la separación train/test usaremos la función `SplitTrainTest`. Para la clasificación usaremos la función `ClassifierKNN`.\n",
        "\n",
        "El output de esta celda debe ser:\n",
        "\n",
        "* `Xtrain,ytrain,Xtest,ytest`: Datos del training y testing\n",
        "\n",
        "* `acc`: Accuracy obtenido\n",
        "\n",
        "* `C`: Matriz de confusión\n",
        "\n",
        "<font color='orange'>Se recomienda estudiar bien las dos líneas de código que hacen la normalización.</font>\n",
        "\n",
        "\n",
        "\n"
      ]
    },
    {
      "cell_type": "code",
      "metadata": {
        "id": "IpghwJ6MOoz2",
        "outputId": "5b41570c-c8ab-4068-c791-2defe38e98d9",
        "colab": {
          "base_uri": "https://localhost:8080/"
        }
      },
      "source": [
        "# Definición de datos de entrada\n",
        "X = Xlbp                         # <= COMPLETAR AQUI LA MATRIZ DE LAS CARACTERISTICAS LBP EXTRAIDAS\n",
        "\n",
        "# Separación de datos de Training/Testing\n",
        "ntrain = 280                     # <= COMPLETAR AQUI EL NUMERO DE MUESTRAS POR CLASE PARA EL TRAINING\n",
        "Xtrain,ytrain,Xtest,ytest = SplitTrainTest(X,y,ntrain)  # <= COMPLETAR AQUI LA SEPARACIÓN TRAINING/TESTING\n",
        "\n",
        "# NORMALIZACION: ESTUDIAR PASO 1 y PASO 2\n",
        "# Normalización (paso 1): cada columna del training es escalada a numeros entre 0 y 1\n",
        "Xtrain, a, b = normalize(Xtrain)\n",
        "\n",
        "# Normalización (paso 2): cada columna del testing es escalda usando el escalamiento del training\n",
        "# Observar que los factores de escalamiento (a,b) dependen de los datos del training y no del testing.\n",
        "Xtest        = Xtest * a + b\n",
        "\n",
        "acc,C = ClassifierKNN(Xtrain,ytrain,Xtest,ytest)    # <= COMPLETAR AQUI LA LÍNEA DE CÓDIGO QUE REALIZA LA CLASIFICACIÓN\n"
      ],
      "execution_count": 20,
      "outputs": [
        {
          "output_type": "stream",
          "name": "stdout",
          "text": [
            "Entrenando con 560 muestras y probando con 120 muestras\n",
            "Los datos tienen 10 features\n",
            "Testing Accuracy = 75.0%\n",
            "Matriz de Confusión:\n",
            "[[41 19]\n",
            " [11 49]]\n"
          ]
        },
        {
          "output_type": "stream",
          "name": "stderr",
          "text": [
            "/usr/local/lib/python3.7/dist-packages/ipykernel_launcher.py:22: DeprecationWarning: `np.int` is a deprecated alias for the builtin `int`. To silence this warning, use `int` by itself. Doing this will not modify any behavior and is safe. When replacing `np.int`, you may wish to use e.g. `np.int64` or `np.int32` to specify the precision. If you wish to review your current use, check the release note link for additional information.\n",
            "Deprecated in NumPy 1.20; for more details and guidance: https://numpy.org/devdocs/release/1.20.0-notes.html#deprecations\n"
          ]
        }
      ]
    },
    {
      "cell_type": "markdown",
      "metadata": {
        "id": "lR0Y6PEKxL8s"
      },
      "source": [
        "# PREGUNTA 4: Selección de características usando \"Búsqueda Exhaustiva\"\n",
        "\n",
        "(8 puntos)\n",
        "\n",
        "En este ejemplo buscaremos las q=4 mejores características de las m=10 extraídas. La búsqueda exhaustiva -en este caso- evalúa todas las combinaciones de 4 características (sin repetición), es decir, evalúa las siguientes m!/(q! x (m-q!) = 10!/(4! x (10-4)!) = 210 combinaciones:\n",
        "\n",
        "* Combinación 1: (0,1,2,<font color='orange'> 3 </font> )\n",
        "\n",
        "* Combinación 2: (0,1,2,<font color='orange'> 4 </font>)\n",
        "\n",
        "* Combinación 3: (0,1,2,<font color='orange'> 5 </font>)\n",
        "\n",
        "* Combinación 4: (0,1,2,<font color='orange'> 6 </font>)\n",
        "\n",
        "* Combinación 5: (0,1,2,<font color='orange'> 7 </font>)\n",
        "\n",
        "* Combinación 6: (0,1,2,<font color='orange'> 8 </font>)\n",
        "\n",
        "* Combinación 7: (0,1,2,<font color='orange'> 9 </font>)\n",
        "\n",
        "* Combinación 8: (0,1,<font color='magenta'> 3 </font>,<font color='cyan'> 4 </font>) -> la combinación (0,1,3,0) no se evalúa porque se repite el 0, además la combinación (0,1,3,2) tampoco se evalúa porque ya fue evaluada en la combinación 1 (en otro orden).\n",
        "\n",
        "* Combinación 9: (0,1,<font color='magenta'> 3 </font>,<font color='cyan'> 5 </font>)\n",
        "\n",
        "* Combinación 10: (0,1,<font color='magenta'> 3 </font>,<font color='cyan'> 6 </font>)\n",
        "\n",
        "* :\n",
        "\n",
        "* Combinación 210: (6,7,8,9)\n",
        "\n",
        "La búsqueda exhaustiva escoge la \"mejor\" de estas 210 combinaciones. La mejor combinación será aquella que tenga la mayor \"separabilidad\" entre las clases. Para obtener un \"score\" de la separabilidad de las características podemos usar la función de Fisher que mide qué tan compactas están cada una de las clases, y qué tan separadas están entre ellas. Una buena separabilidad (un buen \"score\") se obtiene si en el espacio de características, las clases son compactas y la separación entre ellas es grande. Este \"score\" está implementado en la función `jfisher`. Entre más grande el \"score\" mayor es la separabilidad. En la búsqueda exhaustiva buscamos aquella combinación que maximiza el score entregado por `jfisher`.\n",
        "\n",
        "## Ejemplo de cómo usar `jfisher`:\n",
        "\n",
        "A manera de ejemplo, vamos a suponer que hemos almacenado en `Z` la extracción de 20 características de 1000 muestras, es decir el tamaño de esta matriz `Z` es de 1000x20. Adicionalmente, la clasificación ideal de estas 1000 muestras se encuentra almacenada en la variable `d` de 1000 elementos. En este ejemplo, los elementos de `d` toman los valores 0, 1, 2 ó 3 (porque hay 4 clases).\n",
        "\n",
        "En este ejemplo, deseamos evaluar el \"score\" de las características (3,15,17). Para evaluar el desempeño de estas tres características seguimos estos cuatro pasos:\n",
        "\n",
        "* Definimos `i1=3`, `i2=15`, y `i3=17`.\n",
        "\n",
        "* Definimos `ii = (i1,i2,i3)`.\n",
        "\n",
        "* Escogemos de `Z` las columnas indexadas por `ii` usando `Z_sel = Z[:,ii]`. Ahora `Z_sel` tiene 1000 muestras y 3 columnas. \n",
        "\n",
        "* Para obtener el \"score\" de estas características seleccionadas, usamos el comando: `score = jfisher(Z_sel,d)`\n",
        "\n",
        "En este ejemplo, en la variable `score` hemos almacenado la evaluación de la función de Fisher de la separabilidad para la selección de las columas (3,15,17).\n",
        "\n",
        "En el siguiente código Ud. debe implementar la búsqueda exhaustiva. El input de este código es la matriz `Xtrain` de 640x10 elementos, y el vector `ytrain` de 640 elementos, la salida debe ser el vector `best_indices` de 4 números distintos entre 0 y 9 (ya que existen 10 características en `Xtrain` y se escogen 4), que corresponde a la mejor combinación de características. \n",
        "\n",
        "En este código Ud. debe hacer  210 evaluaciones de la función de Fisher, una para cada combinación, y se selecciona aquella combinación que maximiza la función de Fisher.\n",
        "\n",
        "La búsqueda exhaustiva se realiza con cuatro contadores `(i1,i2,i3,i4)` para cada una de las 4 características. Como nuestros datos tienen 10 características, es necesario observar que \n",
        "\n",
        "* `i1` debe contar de 0 a 6\n",
        "\n",
        "* `i2` debe contar de `i1+1` a 7\n",
        "\n",
        "* `i3` debe contar de `i2+1` a 8\n",
        "\n",
        "* `i4` debe contar de `i3+1` a 9\n",
        "\n",
        "\n",
        "En esta implemantación, `i1 < i2 < i3 < i4 `, de esta manera 1) se recorren todos los índices sin repetirse, es decir la combinación (1,1,2,3) no debe evaluarse, y 2) no se evalúan combinaciones que ya han sido evaluadas anteriormente, es decir si evaluó (1,2,3,4), no se evalúa (3,2,1,4) ya que ambas combinaciones tienen el mismo \"score\".\n",
        "\n"
      ]
    },
    {
      "cell_type": "code",
      "metadata": {
        "id": "cCs0G7aCx9qE",
        "outputId": "ccab2f29-f08c-4291-f63c-43b0caecaaf9",
        "colab": {
          "base_uri": "https://localhost:8080/"
        }
      },
      "source": [
        "#######################################################################\n",
        "# AYUDA: Hay que leer y entender el texto anterior (de la Pregunta 4) #\n",
        "#######################################################################\n",
        "\n",
        "Z = Xtrain\n",
        "d = ytrain\n",
        "max_score = None \n",
        "best_indices = None\n",
        "#\n",
        "# COMPLETAR CODIGO DE LA PREGUNTA 4 AQUI:\n",
        "#\n",
        "score = 0\n",
        "for i in range(7):\n",
        "  for j in range(i+1,8):\n",
        "    for k in range(j+1,9):\n",
        "      for l in range(k+1,10):\n",
        "        score += 1\n",
        "        ii = (i,j,k,l)\n",
        "        Z_sel = Z[:,ii]\n",
        "        score = jfisher(Z_sel,d)\n",
        "        if(max_score is None or score >max_score):\n",
        "          max_score = score \n",
        "          best_indices = ii\n",
        "\n",
        "\n",
        "print('Caractersiticas Seleccionadas: ',best_indices) # <= Ultima linea, no modificar\n"
      ],
      "execution_count": 34,
      "outputs": [
        {
          "output_type": "stream",
          "name": "stdout",
          "text": [
            "Caractersiticas Seleccionadas:  (2, 5, 6, 9)\n"
          ]
        }
      ]
    },
    {
      "cell_type": "markdown",
      "metadata": {
        "id": "JLO9YK1BnZc8"
      },
      "source": [
        "# PREGUNTA 5: Clasificación con características seleccionadas\n",
        "\n",
        "(3 puntos)\n",
        "\n",
        "A continuación se definen las matrices `Xtrain_sel` (de 640x4 elementos) y `Xtest_sel` (de 40x4) elementos, tomando las columnas seleccionadas de `Xtrain` y `Xtest` respectivamente usando los índices encontrados en `best_indices`.\n",
        "\n",
        "Finalmente, entrenamos y probamos el clasificador con estos nuevos datos. No es necesario definir `ytrain_sel` y `ytest_sel` porque son iguales a `ytrain` y `ytest` respectivamente.\n",
        "\n",
        "El output de esta celda debe ser:\n",
        "\n",
        "* `acc`: Accuracy obtenido\n",
        "\n",
        "* `C`: Matriz de confusión\n"
      ]
    },
    {
      "cell_type": "code",
      "metadata": {
        "id": "YXXuDNFlK1BM",
        "outputId": "812fdf89-8aa5-4efc-aaf3-429d5d21524e",
        "colab": {
          "base_uri": "https://localhost:8080/"
        }
      },
      "source": [
        "#\n",
        "# COMPLETAR CODIGO DE LA PREGUNTA 5 AQUI:\n",
        "#\n",
        "selected = (2,5,6,9)\n",
        "Xtrain_sel = Xtrain[:,selected] \n",
        "Xtest_sel = Xtest[:,selected]\n",
        "\n",
        "print(Xtrain_sel.shape)\n",
        "print(Xtest_sel.shape)\n",
        "# NORMALIZACION: ESTUDIAR PASO 1 y PASO 2\n",
        "# Normalización (paso 1): cada columna del training es escalada a numeros entre 0 y 1\n",
        "#Xtrain_sel, a, b = normalize(Xtrain_sel)\n",
        "\n",
        "# Normalización (paso 2): cada columna del testing es escalda usando el escalamiento del training\n",
        "# Observar que los factores de escalamiento (a,b) dependen de los datos del training y no del testing.\n",
        "#Xtest        = Xtest * a + b\n",
        "\n",
        "acc,C = ClassifierKNN(Xtrain_sel,ytrain,Xtest_sel,ytest)    # <= COMPLETAR AQUI LA LÍNEA DE CÓDIGO QUE REALIZA LA CLASIFICACIÓN\n"
      ],
      "execution_count": 35,
      "outputs": [
        {
          "output_type": "stream",
          "name": "stdout",
          "text": [
            "(560, 4)\n",
            "(120, 4)\n",
            "Entrenando con 560 muestras y probando con 120 muestras\n",
            "Los datos tienen 4 features\n",
            "Testing Accuracy = 82.5%\n",
            "Matriz de Confusión:\n",
            "[[46 14]\n",
            " [ 7 53]]\n"
          ]
        }
      ]
    },
    {
      "cell_type": "markdown",
      "metadata": {
        "id": "4jPRGF19lVSd"
      },
      "source": [
        "<font color='orange'> APRENDIZAJE: Si has hecho los pasos correctamente, observarás que con 4 características se obtienen en este problema un mejor desempeño que con 10 características. En esta solución, con selección de características, hemos subido el accuracy en 7.5%.\n"
      ]
    },
    {
      "cell_type": "markdown",
      "metadata": {
        "id": "RIffHnis4bIp"
      },
      "source": [
        "# VERIFICACION FINAL\n",
        "\n",
        "<font color='red'> **ADVERTENCIA:** Este ejercicio será evaluado de la siguiente manera: si el código funciona y el resultado es correcto, la pregunta tendrá un 100% de la evaluación, en caso contrario 0%. Para asegurarse que el código se ejecute sin caídas seleccione la opción del menú:\n",
        "\n",
        "1) <font color='orange'> 'Runtime' + 'Factory reset runtime'\n",
        "\n",
        "2) <font color='orange'> 'Run all'\n",
        "\n",
        "<font color='red'> El código debería ejecutarse desde el inicio hasta el final sin problema alguno."
      ]
    }
  ]
}